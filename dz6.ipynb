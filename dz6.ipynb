{
 "cells": [
  {
   "cell_type": "markdown",
   "metadata": {},
   "source": [
    "Создайте модуль и напишите в нём функцию, которая получает на вход дату в формате DD.MM.YYYY                \n",
    "Функция возвращает истину, если дата может существовать или ложь, если такая дата невозможна.           \n",
    "Для простоты договоримся, что год может быть в диапазоне [1, 9999].             \n",
    "Весь период (1 января 1 года - 31 декабря 9999 года) действует Григорианский календарь.          \n",
    "Проверку года на високосность вынести в отдельную защищённую функцию.           \n",
    "\n",
    "В модуль с проверкой даты добавьте возможность запуска в терминале с передачей даты на проверку. (файл date_validator.py)               \n",
    "Запуск в терминале: python date_validator.py 31.12.2023\n"
   ]
  },
  {
   "cell_type": "code",
   "execution_count": 11,
   "metadata": {},
   "outputs": [
    {
     "name": "stdout",
     "output_type": "stream",
     "text": [
      "Дата существует.\n",
      "Год високосный.\n"
     ]
    }
   ],
   "source": [
    "def is_leap_year(year):\n",
    "    \"\"\"Проверяет, является ли год високосным.\"\"\"\n",
    "    if year % 4 != 0:\n",
    "        return False\n",
    "    elif year % 100 != 0:\n",
    "        return True\n",
    "    elif year % 400 != 0:\n",
    "        return False\n",
    "    else:\n",
    "        return True\n",
    "\n",
    "def extract_year(date_str):\n",
    "    \"\"\"Извлекает год из строки с датой в формате DD.MM.YYYY.\"\"\"\n",
    "    try:\n",
    "        day, month, year = map(int, date_str.split('.'))\n",
    "        return year\n",
    "    except ValueError:\n",
    "        return None\n",
    "\n",
    "def is_valid_date(date_str):\n",
    "    \"\"\"Проверяет, существует ли введенная дата в формате DD.MM.YYYY.\"\"\"\n",
    "    year = extract_year(date_str)\n",
    "    if year is None:\n",
    "        return False\n",
    "    \n",
    "    if year < 1 or year > 9999:\n",
    "        return False\n",
    "    \n",
    "    try:\n",
    "        day, month, _ = map(int, date_str.split('.'))\n",
    "        \n",
    "        if month < 1 or month > 12:\n",
    "            return False\n",
    "        \n",
    "        days_in_month = [31, 28 if not is_leap_year(year) else 29, 31, 30, 31, 30, 31, 31, 30, 31, 30, 31]\n",
    "        \n",
    "        if day < 1 or day > days_in_month[month - 1]:\n",
    "            return False\n",
    "        \n",
    "        return True\n",
    "    \n",
    "    except ValueError:\n",
    "        return False\n",
    "\n",
    "if __name__ == \"__main__\":\n",
    "    date_str = input(\"Введите дату в формате DD.MM.YYYY: \")\n",
    "    year = extract_year(date_str)\n",
    "    if is_valid_date(date_str):\n",
    "        print(f\"Дата существует.\")\n",
    "        if is_leap_year(year):\n",
    "            print(f\"Год високосный.\")\n",
    "        else:\n",
    "            print(\"Год не високосный.\")\n",
    "        \n",
    "    else:\n",
    "        print(\"Даты не существует. Пожалуйста, исправьте ошибки в вводе и повторите попытку.\")\n",
    "        \n",
    "    "
   ]
  }
 ],
 "metadata": {
  "kernelspec": {
   "display_name": "Python 3",
   "language": "python",
   "name": "python3"
  },
  "language_info": {
   "codemirror_mode": {
    "name": "ipython",
    "version": 3
   },
   "file_extension": ".py",
   "mimetype": "text/x-python",
   "name": "python",
   "nbconvert_exporter": "python",
   "pygments_lexer": "ipython3",
   "version": "3.10.7"
  },
  "orig_nbformat": 4
 },
 "nbformat": 4,
 "nbformat_minor": 2
}
