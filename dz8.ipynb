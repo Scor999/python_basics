{
 "cells": [
  {
   "cell_type": "markdown",
   "metadata": {},
   "source": [
    "Напишите функцию, которая получает на вход директорию и рекурсивно      \n",
    "обходит её и все вложенные директории. Результаты обхода сохраните в файлы json, csv и pickle.              \n",
    "○ Для дочерних объектов указывайте родительскую директорию.             \n",
    "○ Для каждого объекта укажите файл это или директория.          \n",
    "○ Для файлов сохраните его размер в байтах, а для директорий размер файлов в ней с учётом всех вложенных файлов и директорий.                   "
   ]
  },
  {
   "cell_type": "code",
   "execution_count": 8,
   "metadata": {},
   "outputs": [],
   "source": [
    "import os\n",
    "import csv\n",
    "\n",
    "def get_size(path):\n",
    "    # Если это директория, рекурсивно считаем суммарный размер всех файлов внутри\n",
    "    if os.path.isdir(path):\n",
    "        total_size = 0\n",
    "        for dirpath, dirnames, filenames in os.walk(path):\n",
    "            for filename in filenames:\n",
    "                filepath = os.path.join(dirpath, filename)\n",
    "                total_size += os.path.getsize(filepath)\n",
    "        return total_size\n",
    "    # Если это файл, возвращаем его размер\n",
    "    else:\n",
    "        return os.path.getsize(path)\n",
    "\n",
    "def process_directory(directory_path, output_file):\n",
    "    # Открываем CSV-файл для записи результатов\n",
    "    with open(output_file, 'w', newline='') as csvfile:\n",
    "        # Создаем объект для записи CSV-файла\n",
    "        csv_writer = csv.writer(csvfile)\n",
    "        \n",
    "        # Записываем заголовок CSV-файла\n",
    "        csv_writer.writerow(['Object Type', 'Object Path', 'Object Size (bytes)'])\n",
    "\n",
    "        # Рекурсивно обходим директорию и все вложенные директории\n",
    "        for root, dirs, files in os.walk(directory_path):\n",
    "            for directory_name in dirs:\n",
    "                directory_path = os.path.join(root, directory_name)\n",
    "                directory_size = get_size(directory_path)\n",
    "                csv_writer.writerow(['Directory', directory_path, directory_size])\n",
    "\n",
    "            for file_name in files:\n",
    "                file_path = os.path.join(root, file_name)\n",
    "                file_size = get_size(file_path)\n",
    "                csv_writer.writerow(['File', file_path, file_size])\n",
    "\n",
    "if __name__ == \"__main__\":\n",
    "    # Указываем путь к целевой директории\n",
    "    target_directory = \"F:\\Programs_GB\\python_basics\"\n",
    "    \n",
    "    # Указываем имя CSV-файла для сохранения результатов\n",
    "    output_file = \"результаты.csv\"\n",
    "    \n",
    "    # Вызываем функцию для обработки директории\n",
    "    process_directory(target_directory, output_file)\n"
   ]
  }
 ],
 "metadata": {
  "kernelspec": {
   "display_name": "Python 3",
   "language": "python",
   "name": "python3"
  },
  "language_info": {
   "codemirror_mode": {
    "name": "ipython",
    "version": 3
   },
   "file_extension": ".py",
   "mimetype": "text/x-python",
   "name": "python",
   "nbconvert_exporter": "python",
   "pygments_lexer": "ipython3",
   "version": "3.10.7"
  },
  "orig_nbformat": 4
 },
 "nbformat": 4,
 "nbformat_minor": 2
}
