{
 "cells": [
  {
   "cell_type": "markdown",
   "metadata": {},
   "source": [
    "Напишите функцию для транспонирования матрицы"
   ]
  },
  {
   "cell_type": "code",
   "execution_count": 2,
   "metadata": {},
   "outputs": [
    {
     "name": "stdout",
     "output_type": "stream",
     "text": [
      "[1, 4]\n",
      "[2, 5]\n",
      "[3, 6]\n"
     ]
    }
   ],
   "source": [
    "def transpose_matrix(matrix):\n",
    "    # Получаем количество строк и столбцов в исходной матрице\n",
    "    rows, cols = len(matrix), len(matrix[0])\n",
    "    \n",
    "    # Создаем новую матрицу с обратными размерами (столбцы становятся строками и наоборот)\n",
    "    transposed = [[0 for _ in range(rows)] for _ in range(cols)]\n",
    "    \n",
    "    # Заполняем новую матрицу значениями из исходной с учетом транспонирования\n",
    "    for i in range(rows):\n",
    "        for j in range(cols):\n",
    "            transposed[j][i] = matrix[i][j]\n",
    "    \n",
    "    return transposed\n",
    "# Исходная матрица\n",
    "matrix = [\n",
    "    [1, 2, 3],\n",
    "    [4, 5, 6],\n",
    "]\n",
    "\n",
    "# Транспонируем матрицу\n",
    "result = transpose_matrix(matrix)\n",
    "\n",
    "# Выводим результат\n",
    "for row in result:\n",
    "    print(row)\n"
   ]
  },
  {
   "cell_type": "markdown",
   "metadata": {},
   "source": [
    "Напишите функцию принимающую на вход только ключевые параметры и возвращающую словарь, где ключ — значение переданного аргумента, а значение — имя аргумента. Если ключ не хешируем, используйте его строковое представление."
   ]
  },
  {
   "cell_type": "code",
   "execution_count": 1,
   "metadata": {},
   "outputs": [
    {
     "name": "stdout",
     "output_type": "stream",
     "text": [
      "{1: 'a', 2: 'b', 3: 'c'}\n"
     ]
    }
   ],
   "source": [
    "import inspect\n",
    "\n",
    "def argument_to_dict(**kwargs):\n",
    "    arguments_dict = {}\n",
    "    for arg_name, arg_value in kwargs.items():\n",
    "        arguments_dict[arg_value] = arg_name\n",
    "\n",
    "    return arguments_dict\n",
    "\n",
    "# Пример использования функции\n",
    "result = argument_to_dict(a=1, b=2, c=3)\n",
    "print(result)"
   ]
  },
  {
   "cell_type": "markdown",
   "metadata": {},
   "source": [
    "Возьмите задачу о банкомате из семинара 2. Разбейте её на отдельные операции — функции. Дополнительно сохраняйте все операции поступления и снятия средств в список."
   ]
  },
  {
   "cell_type": "code",
   "execution_count": 2,
   "metadata": {},
   "outputs": [
    {
     "name": "stdout",
     "output_type": "stream",
     "text": [
      "\n",
      "Ваш текущий баланс: $0.00\n",
      "Выберите действие:\n",
      "1. Пополнить счет\n",
      "2. Снять деньги\n",
      "3. Выйти\n",
      "\n",
      "Ваш текущий баланс: $550.00\n",
      "Выберите действие:\n",
      "1. Пополнить счет\n",
      "2. Снять деньги\n",
      "3. Выйти\n",
      "Сумма должна быть кратна 50.\n",
      "\n",
      "Ваш текущий баланс: $550.00\n",
      "Выберите действие:\n",
      "1. Пополнить счет\n",
      "2. Снять деньги\n",
      "3. Выйти\n",
      "\n",
      "Ваш текущий баланс: $120.00\n",
      "Выберите действие:\n",
      "1. Пополнить счет\n",
      "2. Снять деньги\n",
      "3. Выйти\n",
      "\n",
      "Список операций:\n",
      "Пополнение: +$550.00\n",
      "Снятие: -$400.00, комиссия: -$30.00\n",
      "\n",
      "Спасибо за использование банкомата!\n"
     ]
    }
   ],
   "source": [
    "balance = 0  # Начальный баланс\n",
    "transactions = []  # Список операций\n",
    "\n",
    "def deposit(amount):\n",
    "    global balance\n",
    "    balance += amount\n",
    "    transactions.append(f\"Пополнение: +${amount:.2f}\")\n",
    "\n",
    "def withdraw(amount):\n",
    "    global balance\n",
    "    if amount > balance:\n",
    "        print(\"Ошибка: Недостаточно средств на счете.\")\n",
    "        return\n",
    "    withdrawal_fee = max(30, min(amount * 0.015, 600))\n",
    "    balance -= amount + withdrawal_fee\n",
    "    transactions.append(f\"Снятие: -${amount:.2f}, комиссия: -${withdrawal_fee:.2f}\")\n",
    "\n",
    "def main():\n",
    "    global balance\n",
    "    global transactions\n",
    "\n",
    "    while True:\n",
    "        print(\"\\nВаш текущий баланс: ${:.2f}\".format(balance))\n",
    "        print(\"Выберите действие:\")\n",
    "        print(\"1. Пополнить счет\")\n",
    "        print(\"2. Снять деньги\")\n",
    "        print(\"3. Выйти\")\n",
    "\n",
    "        choice = input(\"Введите номер действия: \")\n",
    "\n",
    "        if choice == '1':\n",
    "            amount = int(input(\"Введите сумму для пополнения (кратно 50): \"))\n",
    "            if amount % 50 == 0:\n",
    "                deposit(amount)\n",
    "            else:\n",
    "                print(\"Сумма должна быть кратна 50.\")\n",
    "\n",
    "        elif choice == '2':\n",
    "            amount = int(input(\"Введите сумму для снятия (кратно 50): \"))\n",
    "            if amount % 50 == 0:\n",
    "                withdraw(amount)\n",
    "            else:\n",
    "                print(\"Сумма должна быть кратна 50.\")\n",
    "\n",
    "        elif choice == '3':\n",
    "            print(\"\\nСписок операций:\")\n",
    "            for operation in transactions:\n",
    "                print(operation)\n",
    "            print(\"\\nСпасибо за использование банкомата!\")\n",
    "            break\n",
    "\n",
    "        else:\n",
    "            print(\"Некорректный выбор. Пожалуйста, выберите 1, 2 или 3.\")\n",
    "\n",
    "if __name__ == \"__main__\":\n",
    "    main()"
   ]
  }
 ],
 "metadata": {
  "kernelspec": {
   "display_name": "Python 3",
   "language": "python",
   "name": "python3"
  },
  "language_info": {
   "codemirror_mode": {
    "name": "ipython",
    "version": 3
   },
   "file_extension": ".py",
   "mimetype": "text/x-python",
   "name": "python",
   "nbconvert_exporter": "python",
   "pygments_lexer": "ipython3",
   "version": "3.10.7"
  },
  "orig_nbformat": 4
 },
 "nbformat": 4,
 "nbformat_minor": 2
}
