{
 "cells": [
  {
   "cell_type": "markdown",
   "metadata": {},
   "source": [
    "Напишите функцию для транспонирования матрицы"
   ]
  },
  {
   "cell_type": "code",
   "execution_count": 2,
   "metadata": {},
   "outputs": [
    {
     "name": "stdout",
     "output_type": "stream",
     "text": [
      "[1, 4]\n",
      "[2, 5]\n",
      "[3, 6]\n"
     ]
    }
   ],
   "source": [
    "def transpose_matrix(matrix):\n",
    "    # Получаем количество строк и столбцов в исходной матрице\n",
    "    rows, cols = len(matrix), len(matrix[0])\n",
    "    \n",
    "    # Создаем новую матрицу с обратными размерами (столбцы становятся строками и наоборот)\n",
    "    transposed = [[0 for _ in range(rows)] for _ in range(cols)]\n",
    "    \n",
    "    # Заполняем новую матрицу значениями из исходной с учетом транспонирования\n",
    "    for i in range(rows):\n",
    "        for j in range(cols):\n",
    "            transposed[j][i] = matrix[i][j]\n",
    "    \n",
    "    return transposed\n",
    "# Исходная матрица\n",
    "matrix = [\n",
    "    [1, 2, 3],\n",
    "    [4, 5, 6],\n",
    "]\n",
    "\n",
    "# Транспонируем матрицу\n",
    "result = transpose_matrix(matrix)\n",
    "\n",
    "# Выводим результат\n",
    "for row in result:\n",
    "    print(row)\n"
   ]
  },
  {
   "cell_type": "markdown",
   "metadata": {},
   "source": [
    "Напишите функцию принимающую на вход только ключевые параметры и возвращающую словарь, где ключ — значение переданного аргумента, а значение — имя аргумента. Если ключ не хешируем, используйте его строковое представление."
   ]
  },
  {
   "cell_type": "code",
   "execution_count": 1,
   "metadata": {},
   "outputs": [
    {
     "name": "stdout",
     "output_type": "stream",
     "text": [
      "{1: 'a', 2: 'b', 3: 'c'}\n"
     ]
    }
   ],
   "source": [
    "import inspect\n",
    "\n",
    "def argument_to_dict(**kwargs):\n",
    "    arguments_dict = {}\n",
    "    for arg_name, arg_value in kwargs.items():\n",
    "        arguments_dict[arg_value] = arg_name\n",
    "\n",
    "    return arguments_dict\n",
    "\n",
    "# Пример использования функции\n",
    "result = argument_to_dict(a=1, b=2, c=3)\n",
    "print(result)"
   ]
  }
 ],
 "metadata": {
  "kernelspec": {
   "display_name": "Python 3",
   "language": "python",
   "name": "python3"
  },
  "language_info": {
   "codemirror_mode": {
    "name": "ipython",
    "version": 3
   },
   "file_extension": ".py",
   "mimetype": "text/x-python",
   "name": "python",
   "nbconvert_exporter": "python",
   "pygments_lexer": "ipython3",
   "version": "3.10.7"
  },
  "orig_nbformat": 4
 },
 "nbformat": 4,
 "nbformat_minor": 2
}
