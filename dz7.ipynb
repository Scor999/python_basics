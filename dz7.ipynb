{
 "cells": [
  {
   "cell_type": "markdown",
   "metadata": {},
   "source": [
    "Напишите функцию группового переименования файлов. Она должна:          \n",
    "✔ <span style=\"color:red\">принимать параметр желаемое конечное имя файлов.             \n",
    "При переименовании в конце имени добавляется порядковый номер.           \n",
    "✔ принимать параметр количество цифр в порядковом номере.          \n",
    "✔ принимать параметр расширение исходного файла.    \n",
    "Переименование должно работать только для этих файлов внутри каталога.          \n",
    "✔ принимать параметр расширение конечного файла.           \n",
    "✔ принимать диапазон сохраняемого оригинального имени. Например для диапазона [3, 6] берутся буквы с 3 по 6 из исходного имени файла. К ним прибавляется желаемое конечное имя, если оно передано. Далее счётчик файлов и расширение.</span>\n"
   ]
  },
  {
   "cell_type": "code",
   "execution_count": 1,
   "metadata": {},
   "outputs": [],
   "source": [
    "import os\n",
    "import glob\n",
    "\n",
    "def rename_files_with_custom_numbers_and_extensions_and_range(directory, new_filename, num_digits=2, source_extension=\".txt\", target_extension=\".txt\", name_range=None):\n",
    "    # Получаем список файлов в указанной директории с указанным расширением\n",
    "    files = glob.glob(os.path.join(directory, f\"*{source_extension}\"))\n",
    "\n",
    "    # Определяем базовое имя файла без расширения\n",
    "    base_name, _ = os.path.splitext(new_filename)\n",
    "\n",
    "    # Форматируем строку для формирования порядкового номера\n",
    "    num_format = f\"{{:0{num_digits}d}}\"\n",
    "\n",
    "    # Проходим по каждому файлу и переименовываем его\n",
    "    for i, file_path in enumerate(files):\n",
    "        # Определяем расширение исходного файла\n",
    "        _, file_extension = os.path.splitext(file_path)\n",
    "\n",
    "        # Определяем оригинальное имя файла с учетом диапазона\n",
    "        original_name = os.path.basename(file_path)\n",
    "        if name_range:\n",
    "            start, end = name_range\n",
    "            original_name = original_name[start-1:end]\n",
    "\n",
    "        # Формируем новое имя файла с порядковым номером и указанным расширением\n",
    "        new_file_name = f\"{original_name}_{num_format.format(i+1)}{target_extension}\"\n",
    "\n",
    "        # Если задано желаемое конечное имя, добавляем его\n",
    "        if new_filename:\n",
    "            new_file_name = f\"{new_filename}_{new_file_name}\"\n",
    "\n",
    "        # Создаем новый путь для файла\n",
    "        new_file_path = os.path.join(directory, new_file_name)\n",
    "\n",
    "        # Переименовываем файл\n",
    "        os.rename(file_path, new_file_path)\n",
    "\n",
    "# Пример использования\n",
    "if __name__ == \"__main__\":\n",
    "    directory = \"/путь/к/директории\"  # Замените на путь к вашей директории\n",
    "    new_filename = \"новое_имя_файла\"  # Замените на желаемое конечное имя файла (если не нужно, оставьте пустой строкой)\n",
    "    num_digits = 3  # Задайте количество цифр в порядковом номере\n",
    "    source_extension = \".txt\"  # Задайте расширение исходных файлов\n",
    "    target_extension = \".pdf\"  # Задайте расширение конечных файлов\n",
    "    name_range = (3, 6)  # Задайте диапазон символов из оригинального имени файла\n",
    "    rename_files_with_custom_numbers_and_extensions_and_range(directory, new_filename, num_digits, source_extension, target_extension, name_range)"
   ]
  }
 ],
 "metadata": {
  "kernelspec": {
   "display_name": "Python 3",
   "language": "python",
   "name": "python3"
  },
  "language_info": {
   "codemirror_mode": {
    "name": "ipython",
    "version": 3
   },
   "file_extension": ".py",
   "mimetype": "text/x-python",
   "name": "python",
   "nbconvert_exporter": "python",
   "pygments_lexer": "ipython3",
   "version": "3.10.7"
  },
  "orig_nbformat": 4
 },
 "nbformat": 4,
 "nbformat_minor": 2
}
