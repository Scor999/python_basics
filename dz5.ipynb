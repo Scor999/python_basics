{
 "cells": [
  {
   "cell_type": "markdown",
   "metadata": {},
   "source": [
    "Напишите функцию, которая принимает на вход строку —\n",
    "абсолютный путь до файла. Функция возвращает кортеж из трёх\n",
    "элементов: путь, имя файла, расширение файла."
   ]
  },
  {
   "cell_type": "code",
   "execution_count": 24,
   "metadata": {},
   "outputs": [
    {
     "name": "stdout",
     "output_type": "stream",
     "text": [
      "('F:/program_gb/pyton', 'dz5', '.ipynb')\n"
     ]
    }
   ],
   "source": [
    "def split_file_path(absolute_path):\n",
    "    # Разделяем путь на компоненты, разделяя строку по символу '/'\n",
    "    parts = absolute_path.split('/')\n",
    "    \n",
    "    # Последний элемент в разделенной строке - это имя файла с расширением\n",
    "    filename_with_extension = parts[-1]\n",
    "    \n",
    "    # Разделяем имя файла и его расширение, разделяя строку по символу '.'\n",
    "    name_parts = filename_with_extension.split('.')\n",
    "    \n",
    "    # Если есть более одной точки в имени файла, то берем последний элемент как расширение\n",
    "    if len(name_parts) > 1:\n",
    "        extension = '.' + name_parts[-1]\n",
    "        name = '.'.join(name_parts[:-1])\n",
    "    else:\n",
    "        extension = ''\n",
    "        name = filename_with_extension\n",
    "    \n",
    "    # Объединяем оставшиеся части пути в строку\n",
    "    path = '/'.join(parts[:-1])\n",
    "    \n",
    "    return (path, name, extension)\n",
    "\n",
    "# Пример использования функции\n",
    "absolute_path = \"F:/program_gb/pyton/dz5.ipynb\"\n",
    "result = split_file_path(absolute_path)\n",
    "print(result)\n"
   ]
  },
  {
   "cell_type": "markdown",
   "metadata": {},
   "source": [
    "Напишите однострочный генератор словаря, который принимает\n",
    "на вход три списка одинаковой длины: имена str, ставка int,\n",
    "премия str с указанием процентов вида «10.25%». В результате\n",
    "получаем словарь с именем в качестве ключа и суммой\n",
    "премии в качестве значения. Сумма рассчитывается\n",
    "как ставка умноженная на процент премии "
   ]
  },
  {
   "cell_type": "code",
   "execution_count": 2,
   "metadata": {},
   "outputs": [
    {
     "name": "stdout",
     "output_type": "stream",
     "text": [
      "{'Петров': 102.5, 'Иванов': 187.5, 'Сидоров': 105.0}\n"
     ]
    }
   ],
   "source": [
    "names = [\"Петров\", \"Иванов\", \"Сидоров\"]\n",
    "rates = [1000, 1500, 1200]\n",
    "bonuses = [\"10.25%\", \"12.50%\", \"8.75%\"]\n",
    "\n",
    "result_dict = {name: rate * float(bonus.strip('%')) / 100 for name, rate, bonus in zip(names, rates, bonuses)}\n",
    "\n",
    "print(result_dict)\n"
   ]
  },
  {
   "cell_type": "markdown",
   "metadata": {},
   "source": [
    " Создайте функцию генератор чисел Фибоначчи (см. Википедию).\n"
   ]
  },
  {
   "cell_type": "code",
   "execution_count": 12,
   "metadata": {},
   "outputs": [
    {
     "name": "stdout",
     "output_type": "stream",
     "text": [
      "[0, 1, 1, 2, 3, 5, 8, 13, 21, 34]\n"
     ]
    }
   ],
   "source": [
    "def Fibonacci(n):\n",
    "    if n in [1, 2]:                       \n",
    "        return 1\n",
    "    else:\n",
    "        return Fibonacci(n-1) + Fibonacci(n-2)\n",
    "\n",
    "\n",
    "list = [0]\n",
    "userNumber = int(input('Введите число: '))\n",
    "for e in range(1, userNumber):\n",
    "    list.append(Fibonacci(e))\n",
    "print(list)"
   ]
  }
 ],
 "metadata": {
  "kernelspec": {
   "display_name": "Python 3",
   "language": "python",
   "name": "python3"
  },
  "language_info": {
   "codemirror_mode": {
    "name": "ipython",
    "version": 3
   },
   "file_extension": ".py",
   "mimetype": "text/x-python",
   "name": "python",
   "nbconvert_exporter": "python",
   "pygments_lexer": "ipython3",
   "version": "3.10.7"
  },
  "orig_nbformat": 4
 },
 "nbformat": 4,
 "nbformat_minor": 2
}
