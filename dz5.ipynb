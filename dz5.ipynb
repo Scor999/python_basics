{
 "cells": [
  {
   "cell_type": "markdown",
   "metadata": {},
   "source": [
    "Напишите функцию, которая принимает на вход строку —\n",
    "абсолютный путь до файла. Функция возвращает кортеж из трёх\n",
    "элементов: путь, имя файла, расширение файла."
   ]
  },
  {
   "cell_type": "code",
   "execution_count": 24,
   "metadata": {},
   "outputs": [
    {
     "name": "stdout",
     "output_type": "stream",
     "text": [
      "('F:/program_gb/pyton', 'dz5', '.ipynb')\n"
     ]
    }
   ],
   "source": [
    "def split_file_path(absolute_path):\n",
    "    # Разделяем путь на компоненты, разделяя строку по символу '/'\n",
    "    parts = absolute_path.split('/')\n",
    "    \n",
    "    # Последний элемент в разделенной строке - это имя файла с расширением\n",
    "    filename_with_extension = parts[-1]\n",
    "    \n",
    "    # Разделяем имя файла и его расширение, разделяя строку по символу '.'\n",
    "    name_parts = filename_with_extension.split('.')\n",
    "    \n",
    "    # Если есть более одной точки в имени файла, то берем последний элемент как расширение\n",
    "    if len(name_parts) > 1:\n",
    "        extension = '.' + name_parts[-1]\n",
    "        name = '.'.join(name_parts[:-1])\n",
    "    else:\n",
    "        extension = ''\n",
    "        name = filename_with_extension\n",
    "    \n",
    "    # Объединяем оставшиеся части пути в строку\n",
    "    path = '/'.join(parts[:-1])\n",
    "    \n",
    "    return (path, name, extension)\n",
    "\n",
    "# Пример использования функции\n",
    "absolute_path = \"F:/program_gb/pyton/dz5.ipynb\"\n",
    "result = split_file_path(absolute_path)\n",
    "print(result)\n"
   ]
  }
 ],
 "metadata": {
  "kernelspec": {
   "display_name": "Python 3",
   "language": "python",
   "name": "python3"
  },
  "language_info": {
   "codemirror_mode": {
    "name": "ipython",
    "version": 3
   },
   "file_extension": ".py",
   "mimetype": "text/x-python",
   "name": "python",
   "nbconvert_exporter": "python",
   "pygments_lexer": "ipython3",
   "version": "3.10.7"
  },
  "orig_nbformat": 4
 },
 "nbformat": 4,
 "nbformat_minor": 2
}
