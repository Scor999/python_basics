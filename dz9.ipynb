{
 "cells": [
  {
   "cell_type": "code",
   "execution_count": 1,
   "metadata": {},
   "outputs": [],
   "source": [
    "import csv\n",
    "import random\n",
    "import json\n",
    "\n",
    "# Функция для генерации CSV-файла\n",
    "def generate_csv_file(file_name, rows):\n",
    "    with open(file_name, 'w', newline='') as csvfile:\n",
    "        csv_writer = csv.writer(csvfile)\n",
    "        for _ in range(rows):\n",
    "            a = random.randint(1, 10)\n",
    "            b = random.randint(1, 10)\n",
    "            c = random.randint(1, 10)\n",
    "            csv_writer.writerow([a, b, c])\n",
    "\n",
    "# Функция для нахождения корней квадратного уравнения\n",
    "def find_roots(a, b, c):\n",
    "    discriminant = b**2 - 4*a*c\n",
    "    if discriminant < 0:\n",
    "        return None\n",
    "    elif discriminant == 0:\n",
    "        root = -b / (2*a)\n",
    "        return root\n",
    "    else:\n",
    "        root1 = (-b + discriminant**0.5) / (2*a)\n",
    "        root2 = (-b - discriminant**0.5) / (2*a)\n",
    "        return root1, root2\n",
    "\n",
    "# Декоратор для сохранения результатов в JSON\n",
    "def save_to_json(func):\n",
    "    def wrapper(file_name, *args, **kwargs):\n",
    "        results = []\n",
    "        with open(file_name, newline='') as csvfile:\n",
    "            csv_reader = csv.reader(csvfile)\n",
    "            for row in csv_reader:\n",
    "                a, b, c = map(int, row)\n",
    "                roots = func(a, b, c)\n",
    "                result = {'a': a, 'b': b, 'c': c, 'roots': roots}\n",
    "                results.append(result)\n",
    "        \n",
    "        with open('results.json', 'w') as jsonfile:\n",
    "            json.dump(results, jsonfile, indent=4)\n",
    "    \n",
    "    return wrapper\n",
    "\n",
    "# Применяем декоратор к функции find_roots\n",
    "find_roots = save_to_json(find_roots)\n",
    "\n",
    "# Генерируем CSV-файл с данными\n",
    "generate_csv_file('data.csv', 5)\n",
    "\n",
    "# Вызываем find_roots для данных из CSV и сохраняем результаты в JSON\n",
    "find_roots('data.csv')"
   ]
  }
 ],
 "metadata": {
  "kernelspec": {
   "display_name": "Python 3",
   "language": "python",
   "name": "python3"
  },
  "language_info": {
   "codemirror_mode": {
    "name": "ipython",
    "version": 3
   },
   "file_extension": ".py",
   "mimetype": "text/x-python",
   "name": "python",
   "nbconvert_exporter": "python",
   "pygments_lexer": "ipython3",
   "version": "3.10.7"
  },
  "orig_nbformat": 4
 },
 "nbformat": 4,
 "nbformat_minor": 2
}
